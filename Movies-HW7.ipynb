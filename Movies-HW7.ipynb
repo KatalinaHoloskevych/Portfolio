{
 "cells": [
  {
   "cell_type": "code",
   "execution_count": 3,
   "id": "2639ceaa",
   "metadata": {},
   "outputs": [],
   "source": [
    "import warnings\n",
    "warnings.simplefilter(action='ignore', category=FutureWarning)\n",
    "\n",
    "import pandas as pd\n",
    "import numpy as np\n",
    "import os \n",
    "import requests"
   ]
  },
  {
   "cell_type": "code",
   "execution_count": 6,
   "id": "6f388771",
   "metadata": {},
   "outputs": [],
   "source": [
    "def download_document(file_name, document_url):\n",
    "    if os.path.exists(file_name):\n",
    "        pass\n",
    "    else:\n",
    "        response = requests.get(document_url)\n",
    "        if response.status_code == 200:\n",
    "            with open(file_name, 'wb') as f:\n",
    "                f.write(response.content)\n",
    "            return f    \n",
    "\n",
    "        else:\n",
    "            print(f'Failed to download the document. Status code: {response.status_code}')\n",
    "\n",
    "\n",
    "\n",
    "file_name = 'movies.csv'\n",
    "document_url = ' https://gist.githubusercontent.com/tiangechen/b68782efa49a16edaf07dc2cdaa855ea/raw/0c794a9717f18b094eabab2cd6a6b9a226903577'\n",
    "download_document(file_name, document_url)"
   ]
  },
  {
   "cell_type": "code",
   "execution_count": 5,
   "id": "b2f5a648",
   "metadata": {
    "scrolled": true
   },
   "outputs": [],
   "source": [
    "df = pd.read_csv(file_name)\n",
    "df.drop_duplicates(inplace = True)"
   ]
  },
  {
   "cell_type": "code",
   "execution_count": 6,
   "id": "de96f338",
   "metadata": {},
   "outputs": [
    {
     "data": {
      "text/html": [
       "<div>\n",
       "<style scoped>\n",
       "    .dataframe tbody tr th:only-of-type {\n",
       "        vertical-align: middle;\n",
       "    }\n",
       "\n",
       "    .dataframe tbody tr th {\n",
       "        vertical-align: top;\n",
       "    }\n",
       "\n",
       "    .dataframe thead th {\n",
       "        text-align: right;\n",
       "    }\n",
       "</style>\n",
       "<table border=\"1\" class=\"dataframe\">\n",
       "  <thead>\n",
       "    <tr style=\"text-align: right;\">\n",
       "      <th></th>\n",
       "      <th>Film</th>\n",
       "      <th>Genre</th>\n",
       "      <th>Lead Studio</th>\n",
       "      <th>Audience score %</th>\n",
       "      <th>Profitability</th>\n",
       "      <th>Rotten Tomatoes %</th>\n",
       "      <th>Worldwide Gross</th>\n",
       "      <th>Year</th>\n",
       "    </tr>\n",
       "  </thead>\n",
       "  <tbody>\n",
       "    <tr>\n",
       "      <th>0</th>\n",
       "      <td>Zack and Miri Make a Porno</td>\n",
       "      <td>Romance</td>\n",
       "      <td>The Weinstein Company</td>\n",
       "      <td>70</td>\n",
       "      <td>1.747542</td>\n",
       "      <td>64</td>\n",
       "      <td>$41.94</td>\n",
       "      <td>2008</td>\n",
       "    </tr>\n",
       "    <tr>\n",
       "      <th>1</th>\n",
       "      <td>Youth in Revolt</td>\n",
       "      <td>Comedy</td>\n",
       "      <td>The Weinstein Company</td>\n",
       "      <td>52</td>\n",
       "      <td>1.090000</td>\n",
       "      <td>68</td>\n",
       "      <td>$19.62</td>\n",
       "      <td>2010</td>\n",
       "    </tr>\n",
       "    <tr>\n",
       "      <th>2</th>\n",
       "      <td>You Will Meet a Tall Dark Stranger</td>\n",
       "      <td>Comedy</td>\n",
       "      <td>Independent</td>\n",
       "      <td>35</td>\n",
       "      <td>1.211818</td>\n",
       "      <td>43</td>\n",
       "      <td>$26.66</td>\n",
       "      <td>2010</td>\n",
       "    </tr>\n",
       "    <tr>\n",
       "      <th>3</th>\n",
       "      <td>When in Rome</td>\n",
       "      <td>Comedy</td>\n",
       "      <td>Disney</td>\n",
       "      <td>44</td>\n",
       "      <td>0.000000</td>\n",
       "      <td>15</td>\n",
       "      <td>$43.04</td>\n",
       "      <td>2010</td>\n",
       "    </tr>\n",
       "    <tr>\n",
       "      <th>4</th>\n",
       "      <td>What Happens in Vegas</td>\n",
       "      <td>Comedy</td>\n",
       "      <td>Fox</td>\n",
       "      <td>72</td>\n",
       "      <td>6.267647</td>\n",
       "      <td>28</td>\n",
       "      <td>$219.37</td>\n",
       "      <td>2008</td>\n",
       "    </tr>\n",
       "  </tbody>\n",
       "</table>\n",
       "</div>"
      ],
      "text/plain": [
       "                                 Film    Genre            Lead Studio  \\\n",
       "0          Zack and Miri Make a Porno  Romance  The Weinstein Company   \n",
       "1                     Youth in Revolt   Comedy  The Weinstein Company   \n",
       "2  You Will Meet a Tall Dark Stranger   Comedy            Independent   \n",
       "3                        When in Rome   Comedy                 Disney   \n",
       "4               What Happens in Vegas   Comedy                    Fox   \n",
       "\n",
       "   Audience score %  Profitability  Rotten Tomatoes % Worldwide Gross  Year  \n",
       "0                70       1.747542                 64         $41.94   2008  \n",
       "1                52       1.090000                 68         $19.62   2010  \n",
       "2                35       1.211818                 43         $26.66   2010  \n",
       "3                44       0.000000                 15         $43.04   2010  \n",
       "4                72       6.267647                 28        $219.37   2008  "
      ]
     },
     "execution_count": 6,
     "metadata": {},
     "output_type": "execute_result"
    }
   ],
   "source": [
    "df.head()"
   ]
  },
  {
   "cell_type": "code",
   "execution_count": 9,
   "id": "49ed872e",
   "metadata": {},
   "outputs": [],
   "source": [
    "df['Worldwide Gross'] = df['Worldwide Gross'].str[1:]# прибираю знак $\n",
    "df = df.astype({'Worldwide Gross': 'float64'}) # змінюю тип даних для поля Worldwide Gross - воно має бути числовим для аналізу"
   ]
  },
  {
   "cell_type": "markdown",
   "id": "a9ff78ee",
   "metadata": {},
   "source": [
    "### 2. Перерахуйте всі стовпці набору даних та вивчіть їх типи. Вивчіть статистику з різних областей. Опишіть, які дані ми маємо"
   ]
  },
  {
   "cell_type": "code",
   "execution_count": 10,
   "id": "58f70cce",
   "metadata": {},
   "outputs": [
    {
     "name": "stdout",
     "output_type": "stream",
     "text": [
      "<class 'pandas.core.frame.DataFrame'>\n",
      "Int64Index: 75 entries, 0 to 76\n",
      "Data columns (total 8 columns):\n",
      " #   Column             Non-Null Count  Dtype  \n",
      "---  ------             --------------  -----  \n",
      " 0   Film               75 non-null     object \n",
      " 1   Genre              75 non-null     object \n",
      " 2   Lead Studio        75 non-null     object \n",
      " 3   Audience score %   75 non-null     int64  \n",
      " 4   Profitability      75 non-null     float64\n",
      " 5   Rotten Tomatoes %  75 non-null     int64  \n",
      " 6   Worldwide Gross    75 non-null     float64\n",
      " 7   Year               75 non-null     int64  \n",
      "dtypes: float64(2), int64(3), object(3)\n",
      "memory usage: 5.3+ KB\n"
     ]
    }
   ],
   "source": [
    "df.info()"
   ]
  },
  {
   "cell_type": "code",
   "execution_count": 11,
   "id": "d789533d",
   "metadata": {},
   "outputs": [
    {
     "data": {
      "text/html": [
       "<div>\n",
       "<style scoped>\n",
       "    .dataframe tbody tr th:only-of-type {\n",
       "        vertical-align: middle;\n",
       "    }\n",
       "\n",
       "    .dataframe tbody tr th {\n",
       "        vertical-align: top;\n",
       "    }\n",
       "\n",
       "    .dataframe thead th {\n",
       "        text-align: right;\n",
       "    }\n",
       "</style>\n",
       "<table border=\"1\" class=\"dataframe\">\n",
       "  <thead>\n",
       "    <tr style=\"text-align: right;\">\n",
       "      <th></th>\n",
       "      <th>Audience score %</th>\n",
       "      <th>Profitability</th>\n",
       "      <th>Rotten Tomatoes %</th>\n",
       "      <th>Worldwide Gross</th>\n",
       "      <th>Year</th>\n",
       "    </tr>\n",
       "  </thead>\n",
       "  <tbody>\n",
       "    <tr>\n",
       "      <th>count</th>\n",
       "      <td>75.00</td>\n",
       "      <td>75.00</td>\n",
       "      <td>75.00</td>\n",
       "      <td>75.00</td>\n",
       "      <td>75.00</td>\n",
       "    </tr>\n",
       "    <tr>\n",
       "      <th>mean</th>\n",
       "      <td>63.72</td>\n",
       "      <td>4.53</td>\n",
       "      <td>46.49</td>\n",
       "      <td>138.38</td>\n",
       "      <td>2009.07</td>\n",
       "    </tr>\n",
       "    <tr>\n",
       "      <th>std</th>\n",
       "      <td>13.70</td>\n",
       "      <td>8.12</td>\n",
       "      <td>26.41</td>\n",
       "      <td>156.99</td>\n",
       "      <td>1.35</td>\n",
       "    </tr>\n",
       "    <tr>\n",
       "      <th>min</th>\n",
       "      <td>35.00</td>\n",
       "      <td>0.00</td>\n",
       "      <td>3.00</td>\n",
       "      <td>0.03</td>\n",
       "      <td>2007.00</td>\n",
       "    </tr>\n",
       "    <tr>\n",
       "      <th>25%</th>\n",
       "      <td>52.00</td>\n",
       "      <td>1.75</td>\n",
       "      <td>26.00</td>\n",
       "      <td>32.50</td>\n",
       "      <td>2008.00</td>\n",
       "    </tr>\n",
       "    <tr>\n",
       "      <th>50%</th>\n",
       "      <td>64.00</td>\n",
       "      <td>2.64</td>\n",
       "      <td>43.00</td>\n",
       "      <td>77.09</td>\n",
       "      <td>2009.00</td>\n",
       "    </tr>\n",
       "    <tr>\n",
       "      <th>75%</th>\n",
       "      <td>75.00</td>\n",
       "      <td>4.54</td>\n",
       "      <td>64.50</td>\n",
       "      <td>199.64</td>\n",
       "      <td>2010.00</td>\n",
       "    </tr>\n",
       "    <tr>\n",
       "      <th>max</th>\n",
       "      <td>89.00</td>\n",
       "      <td>66.93</td>\n",
       "      <td>96.00</td>\n",
       "      <td>709.82</td>\n",
       "      <td>2011.00</td>\n",
       "    </tr>\n",
       "  </tbody>\n",
       "</table>\n",
       "</div>"
      ],
      "text/plain": [
       "       Audience score %  Profitability  Rotten Tomatoes %  Worldwide Gross  \\\n",
       "count             75.00          75.00              75.00            75.00   \n",
       "mean              63.72           4.53              46.49           138.38   \n",
       "std               13.70           8.12              26.41           156.99   \n",
       "min               35.00           0.00               3.00             0.03   \n",
       "25%               52.00           1.75              26.00            32.50   \n",
       "50%               64.00           2.64              43.00            77.09   \n",
       "75%               75.00           4.54              64.50           199.64   \n",
       "max               89.00          66.93              96.00           709.82   \n",
       "\n",
       "          Year  \n",
       "count    75.00  \n",
       "mean   2009.07  \n",
       "std       1.35  \n",
       "min    2007.00  \n",
       "25%    2008.00  \n",
       "50%    2009.00  \n",
       "75%    2010.00  \n",
       "max    2011.00  "
      ]
     },
     "execution_count": 11,
     "metadata": {},
     "output_type": "execute_result"
    }
   ],
   "source": [
    "round(df.describe(),2) # Numeric features"
   ]
  },
  {
   "cell_type": "code",
   "execution_count": 12,
   "id": "2291aab8",
   "metadata": {},
   "outputs": [
    {
     "data": {
      "text/plain": [
       "Film           75\n",
       "Genre          10\n",
       "Lead Studio    13\n",
       "dtype: int64"
      ]
     },
     "execution_count": 12,
     "metadata": {},
     "output_type": "execute_result"
    }
   ],
   "source": [
    "df.agg({'Film': 'nunique', 'Genre': 'nunique', 'Lead Studio': 'nunique'}) # Dimentions"
   ]
  },
  {
   "cell_type": "markdown",
   "id": "55661c97",
   "metadata": {},
   "source": [
    "### 3.Скільки всього фільмів у наборі даних?"
   ]
  },
  {
   "cell_type": "code",
   "execution_count": 13,
   "id": "7015e6b0",
   "metadata": {},
   "outputs": [
    {
     "data": {
      "text/plain": [
       "75"
      ]
     },
     "execution_count": 13,
     "metadata": {},
     "output_type": "execute_result"
    }
   ],
   "source": [
    "df['Film'].nunique()"
   ]
  },
  {
   "cell_type": "markdown",
   "id": "5fa8abc3",
   "metadata": {},
   "source": [
    "### 4. Скільки фільмів є у наборі даних для кожного року?"
   ]
  },
  {
   "cell_type": "code",
   "execution_count": 14,
   "id": "d4dfbeeb",
   "metadata": {},
   "outputs": [
    {
     "data": {
      "text/html": [
       "<div>\n",
       "<style scoped>\n",
       "    .dataframe tbody tr th:only-of-type {\n",
       "        vertical-align: middle;\n",
       "    }\n",
       "\n",
       "    .dataframe tbody tr th {\n",
       "        vertical-align: top;\n",
       "    }\n",
       "\n",
       "    .dataframe thead th {\n",
       "        text-align: right;\n",
       "    }\n",
       "</style>\n",
       "<table border=\"1\" class=\"dataframe\">\n",
       "  <thead>\n",
       "    <tr style=\"text-align: right;\">\n",
       "      <th></th>\n",
       "      <th>Year</th>\n",
       "      <th>Film</th>\n",
       "    </tr>\n",
       "  </thead>\n",
       "  <tbody>\n",
       "    <tr>\n",
       "      <th>0</th>\n",
       "      <td>2007</td>\n",
       "      <td>11</td>\n",
       "    </tr>\n",
       "    <tr>\n",
       "      <th>1</th>\n",
       "      <td>2008</td>\n",
       "      <td>19</td>\n",
       "    </tr>\n",
       "    <tr>\n",
       "      <th>2</th>\n",
       "      <td>2009</td>\n",
       "      <td>12</td>\n",
       "    </tr>\n",
       "    <tr>\n",
       "      <th>3</th>\n",
       "      <td>2010</td>\n",
       "      <td>20</td>\n",
       "    </tr>\n",
       "    <tr>\n",
       "      <th>4</th>\n",
       "      <td>2011</td>\n",
       "      <td>13</td>\n",
       "    </tr>\n",
       "  </tbody>\n",
       "</table>\n",
       "</div>"
      ],
      "text/plain": [
       "   Year  Film\n",
       "0  2007    11\n",
       "1  2008    19\n",
       "2  2009    12\n",
       "3  2010    20\n",
       "4  2011    13"
      ]
     },
     "execution_count": 14,
     "metadata": {},
     "output_type": "execute_result"
    }
   ],
   "source": [
    "df4 = df.groupby('Year')['Film'].count().reset_index()\n",
    "df4"
   ]
  },
  {
   "cell_type": "markdown",
   "id": "4fdc6d04",
   "metadata": {},
   "source": [
    "###  5. Покажіть детальну інформацію про найменш і найприбутковіші фільми в наборі"
   ]
  },
  {
   "cell_type": "code",
   "execution_count": 15,
   "id": "0174a518",
   "metadata": {},
   "outputs": [],
   "source": [
    "max_scores = df.loc[df['Profitability'].idxmax()]\n",
    "min_scores = df.loc[df['Profitability'].idxmin()]"
   ]
  },
  {
   "cell_type": "code",
   "execution_count": 16,
   "id": "495e2eb5",
   "metadata": {},
   "outputs": [
    {
     "data": {
      "text/plain": [
       "(Film                   Fireproof\n",
       " Genre                      Drama\n",
       " Lead Studio          Independent\n",
       " Audience score %              51\n",
       " Profitability             66.934\n",
       " Rotten Tomatoes %             40\n",
       " Worldwide Gross            33.47\n",
       " Year                        2008\n",
       " Name: 68, dtype: object,\n",
       " Film                 When in Rome\n",
       " Genre                      Comedy\n",
       " Lead Studio                Disney\n",
       " Audience score %               44\n",
       " Profitability                 0.0\n",
       " Rotten Tomatoes %              15\n",
       " Worldwide Gross             43.04\n",
       " Year                         2010\n",
       " Name: 3, dtype: object)"
      ]
     },
     "execution_count": 16,
     "metadata": {},
     "output_type": "execute_result"
    }
   ],
   "source": [
    "max_scores,min_scores"
   ]
  },
  {
   "cell_type": "code",
   "execution_count": null,
   "id": "88828fcf",
   "metadata": {},
   "outputs": [],
   "source": [
    "print(\"The most profitable film:\\n\")\n",
    "\n",
    "print(movies[movies['Profitability'] == movies['Profitability'].max()])\n",
    "\n",
    "print(\"The least profitable film:\\n\")\n",
    "\n",
    "print(movies[movies['Profitability'] == movies['Profitability'].min()])\n",
    "\n",
    "# 2\n",
    "\n",
    "max_prof = movies.Profitability.max()\n",
    "\n",
    "min_prof = movies.Profitability.min()\n",
    "\n",
    "print(\"The most profitable film:\", movies.loc[movies['Profitability']. isin([max_prof])])\n",
    "\n",
    "print(\"The least profitable film:\", movies.loc[movies['Profitability']. isin([min_prof])])"
   ]
  },
  {
   "cell_type": "markdown",
   "id": "316a6495",
   "metadata": {},
   "source": [
    "### 6. Значення \"Жанр\" іноді здається непослідовним; спробуйте знайти  ці невідповідностей та виправити їх."
   ]
  },
  {
   "cell_type": "code",
   "execution_count": 17,
   "id": "7f6e464a",
   "metadata": {},
   "outputs": [
    {
     "data": {
      "text/plain": [
       "array(['Romance', 'Comedy', 'Drama', 'Animation', 'Fantasy', 'Romence',\n",
       "       'Comdy', 'Action', 'romance', 'comedy'], dtype=object)"
      ]
     },
     "execution_count": 17,
     "metadata": {},
     "output_type": "execute_result"
    }
   ],
   "source": [
    "df['Genre'].unique()"
   ]
  },
  {
   "cell_type": "code",
   "execution_count": 18,
   "id": "21a2fada",
   "metadata": {},
   "outputs": [],
   "source": [
    "df['Genre'] = df['Genre'].replace(['Comdy','comedy'],'Comedy').replace(['romance', 'Romence'],'Romance')"
   ]
  },
  {
   "cell_type": "code",
   "execution_count": 19,
   "id": "5ab7d46f",
   "metadata": {},
   "outputs": [
    {
     "data": {
      "text/plain": [
       "array(['Romance', 'Comedy', 'Drama', 'Animation', 'Fantasy', 'Action'],\n",
       "      dtype=object)"
      ]
     },
     "execution_count": 19,
     "metadata": {},
     "output_type": "execute_result"
    }
   ],
   "source": [
    "df['Genre'].unique()"
   ]
  },
  {
   "cell_type": "markdown",
   "id": "d24ba92c",
   "metadata": {},
   "source": [
    "### 7. Збережіть (у новий файл CSV) 10 найкращих комедій за кількістю глядачів; покажіть лише назву фільму, рік та студію"
   ]
  },
  {
   "cell_type": "code",
   "execution_count": 8,
   "id": "522a3813",
   "metadata": {},
   "outputs": [],
   "source": [
    "df7 = df[df['Genre']=='Comedy'].sort_values(by=['Audience score %'],ascending = False).head(10)\n",
    "df7.to_csv('HW6_task7.csv', index=False, columns = {'Film','Year','Lead Studio'})"
   ]
  }
 ],
 "metadata": {
  "kernelspec": {
   "display_name": "Python 3 (ipykernel)",
   "language": "python",
   "name": "python3"
  },
  "language_info": {
   "codemirror_mode": {
    "name": "ipython",
    "version": 3
   },
   "file_extension": ".py",
   "mimetype": "text/x-python",
   "name": "python",
   "nbconvert_exporter": "python",
   "pygments_lexer": "ipython3",
   "version": "3.9.12"
  }
 },
 "nbformat": 4,
 "nbformat_minor": 5
}
